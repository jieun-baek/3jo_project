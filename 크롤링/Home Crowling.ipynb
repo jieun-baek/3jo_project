{
 "cells": [
  {
   "cell_type": "code",
   "execution_count": 2,
   "source": [
    "# 웹툰 첫페이지 크롤링 #\r\n",
    "\r\n",
    "# 필요 모듈 임포트\r\n",
    "from urllib.request import Request, urlopen\r\n",
    "from bs4 import BeautifulSoup\r\n",
    "import numpy as np\r\n",
    "import pandas as pd\r\n"
   ],
   "outputs": [],
   "metadata": {}
  },
  {
   "cell_type": "code",
   "execution_count": 3,
   "source": [
    "# 주소 및 파싱\r\n",
    "url = 'https://comic.naver.com/webtoon/weekday'\r\n",
    "\r\n",
    "request = Request(url)\r\n",
    "request.get_method = lambda: 'GET'\r\n",
    "response_body = urlopen(request).read()\r\n",
    "soup = BeautifulSoup(response_body, 'html.parser')"
   ],
   "outputs": [],
   "metadata": {}
  },
  {
   "cell_type": "code",
   "execution_count": 4,
   "source": [
    "# 요일 선택자 nth-child(1: 월~ 7 : 일)\r\n",
    "rough = soup.select('#content > div.list_area.daily_all > div:nth-child(7) > div > ul')\r\n"
   ],
   "outputs": [],
   "metadata": {}
  },
  {
   "cell_type": "code",
   "execution_count": 5,
   "source": [
    "# 요일별 갯수 확인\r\n",
    "print(len(rough[0].find_all('div')))\r\n"
   ],
   "outputs": [
    {
     "output_type": "stream",
     "name": "stdout",
     "text": [
      "61\n"
     ]
    }
   ],
   "metadata": {}
  },
  {
   "cell_type": "code",
   "execution_count": 6,
   "source": [
    "np.arange(1, 8)"
   ],
   "outputs": [
    {
     "output_type": "execute_result",
     "data": {
      "text/plain": [
       "array([1, 2, 3, 4, 5, 6, 7])"
      ]
     },
     "metadata": {},
     "execution_count": 6
    }
   ],
   "metadata": {}
  },
  {
   "cell_type": "code",
   "execution_count": 7,
   "source": [
    "# rough 한 정보(css 선택자 활용)(요일까지 선택)\r\n",
    "rough = soup.select('#content > div.list_area.daily_all > div:nth-child(2) > div > ul')"
   ],
   "outputs": [],
   "metadata": {}
  },
  {
   "cell_type": "code",
   "execution_count": 19,
   "source": [
    "# 원하는 정보 찾기\r\n",
    "# 필요한 정보로 분리 작업\r\n",
    "# 필요한정보 작품명/ 요일 / 순위 / 작품 주소\r\n",
    "order_table = pd.DataFrame()\r\n",
    "for j in np.arange(1, 8):\r\n",
    "    # 요일 선택자 nth-child(1: 월~ 7 : 일)\r\n",
    "    rough = soup.select('#content > div.list_area.daily_all > div:nth-child('+str(j)+') > div > ul')\r\n",
    "    name = []\r\n",
    "    weekend = []\r\n",
    "    order = []\r\n",
    "    link = []\r\n",
    "    for i in np.arange(len(rough[0].find_all('div'))):\r\n",
    "        name.append(rough[0].find_all('div')[i].a.img.get('title'))\r\n",
    "        weekend.append(rough[0].find_all('div')[i].a.get('href').split('=')[-1])\r\n",
    "        order.append(rough[0].find_all('div')[i].a.get('onclick').split(',')[-1].replace('\\'','').replace(')',''))\r\n",
    "        link.append('https://comic.naver.com'+rough[0].find_all('div')[i].a.get('href'))\r\n",
    "\r\n",
    "    # 찾은 정보 데이터 프레임 안에 넣기\r\n",
    "    order_table_temp = pd.DataFrame(name).rename(columns={0:'name'})\r\n",
    "    order_table_temp['weekend'] = weekend\r\n",
    "    order_table_temp['order'] = order\r\n",
    "    order_table_temp['link'] = link\r\n",
    "    if j == 1:\r\n",
    "        order_table = order_table_temp\r\n",
    "    else:\r\n",
    "        order_table = pd.concat([order_table,order_table_temp], axis=0)"
   ],
   "outputs": [],
   "metadata": {}
  },
  {
   "cell_type": "code",
   "execution_count": 9,
   "source": [
    "print(rough[0].find_all('div')[0].a)\r\n"
   ],
   "outputs": [
    {
     "output_type": "stream",
     "name": "stdout",
     "text": [
      "<a href=\"/webtoon/list?titleId=736277&amp;weekday=sun\" onclick=\"nclk_v2(event,'thm*S.img','','1')\">\n",
      "<img alt=\"싸움독학\" height=\"90\" onerror=\"this.src='https://ssl.pstatic.net/static/comic/images/migration/common/blank.gif'\" src=\"https://shared-comic.pstatic.net/thumb/webtoon/736277/thumbnail/thumbnail_IMAG10_3ff8475e-6085-4188-a359-920a8801b419.jpg\" title=\"싸움독학\" width=\"83\"/><span class=\"mask\"></span>\n",
      "</a>\n"
     ]
    }
   ],
   "metadata": {}
  },
  {
   "cell_type": "code",
   "execution_count": 10,
   "source": [
    "print(rough[0].find_all('div')[0].a.img.get('title'))\r\n"
   ],
   "outputs": [
    {
     "output_type": "stream",
     "name": "stdout",
     "text": [
      "싸움독학\n"
     ]
    }
   ],
   "metadata": {}
  },
  {
   "cell_type": "code",
   "execution_count": 11,
   "source": [
    "print(rough[0].find_all('div')[0].a.get('href').split('=')[-1])\r\n"
   ],
   "outputs": [
    {
     "output_type": "stream",
     "name": "stdout",
     "text": [
      "sun\n"
     ]
    }
   ],
   "metadata": {}
  },
  {
   "cell_type": "code",
   "execution_count": 12,
   "source": [
    "print(rough[0].find_all('div')[1].a.get('onclick').split(',')[-1].replace('\\'','').replace(')',''))"
   ],
   "outputs": [
    {
     "output_type": "stream",
     "name": "stdout",
     "text": [
      "2\n"
     ]
    }
   ],
   "metadata": {}
  },
  {
   "cell_type": "code",
   "execution_count": 13,
   "source": [
    "print('https://comic.naver.com'+rough[0].find_all('div')[0].a.get('href'))\r\n"
   ],
   "outputs": [
    {
     "output_type": "stream",
     "name": "stdout",
     "text": [
      "https://comic.naver.com/webtoon/list?titleId=736277&weekday=sun\n"
     ]
    }
   ],
   "metadata": {}
  },
  {
   "cell_type": "code",
   "execution_count": 14,
   "source": [
    "# 찾은 정보 데이터 프레임 안에 넣기\r\n",
    "order_table = pd.DataFrame(name).rename(columns={0:'name'})\r\n",
    "order_table['weekend'] = weekend\r\n",
    "order_table['order'] = order\r\n",
    "order_table['link'] = link\r\n"
   ],
   "outputs": [],
   "metadata": {}
  },
  {
   "cell_type": "code",
   "execution_count": 15,
   "source": [
    "order_table"
   ],
   "outputs": [
    {
     "output_type": "execute_result",
     "data": {
      "text/plain": [
       "             name weekend order  \\\n",
       "0            싸움독학     sun     1   \n",
       "1   수희0(tngmlek0)     sun     2   \n",
       "2     이번 생도 잘 부탁해     sun     3   \n",
       "3            열렙전사     sun     4   \n",
       "4            약한영웅     sun     5   \n",
       "..            ...     ...   ...   \n",
       "56           푸른불꽃     sun    57   \n",
       "57            데이즈     sun    58   \n",
       "58          샤인 스타     sun    59   \n",
       "59           호시탐탐     sun    60   \n",
       "60        합격시켜주세용     sun    61   \n",
       "\n",
       "                                                 link  \n",
       "0   https://comic.naver.com/webtoon/list?titleId=7...  \n",
       "1   https://comic.naver.com/webtoon/list?titleId=7...  \n",
       "2   https://comic.naver.com/webtoon/list?titleId=7...  \n",
       "3   https://comic.naver.com/webtoon/list?titleId=6...  \n",
       "4   https://comic.naver.com/webtoon/list?titleId=7...  \n",
       "..                                                ...  \n",
       "56  https://comic.naver.com/webtoon/list?titleId=7...  \n",
       "57  https://comic.naver.com/webtoon/list?titleId=7...  \n",
       "58  https://comic.naver.com/webtoon/list?titleId=7...  \n",
       "59  https://comic.naver.com/webtoon/list?titleId=7...  \n",
       "60  https://comic.naver.com/webtoon/list?titleId=7...  \n",
       "\n",
       "[61 rows x 4 columns]"
      ],
      "text/html": [
       "<div>\n",
       "<style scoped>\n",
       "    .dataframe tbody tr th:only-of-type {\n",
       "        vertical-align: middle;\n",
       "    }\n",
       "\n",
       "    .dataframe tbody tr th {\n",
       "        vertical-align: top;\n",
       "    }\n",
       "\n",
       "    .dataframe thead th {\n",
       "        text-align: right;\n",
       "    }\n",
       "</style>\n",
       "<table border=\"1\" class=\"dataframe\">\n",
       "  <thead>\n",
       "    <tr style=\"text-align: right;\">\n",
       "      <th></th>\n",
       "      <th>name</th>\n",
       "      <th>weekend</th>\n",
       "      <th>order</th>\n",
       "      <th>link</th>\n",
       "    </tr>\n",
       "  </thead>\n",
       "  <tbody>\n",
       "    <tr>\n",
       "      <th>0</th>\n",
       "      <td>싸움독학</td>\n",
       "      <td>sun</td>\n",
       "      <td>1</td>\n",
       "      <td>https://comic.naver.com/webtoon/list?titleId=7...</td>\n",
       "    </tr>\n",
       "    <tr>\n",
       "      <th>1</th>\n",
       "      <td>수희0(tngmlek0)</td>\n",
       "      <td>sun</td>\n",
       "      <td>2</td>\n",
       "      <td>https://comic.naver.com/webtoon/list?titleId=7...</td>\n",
       "    </tr>\n",
       "    <tr>\n",
       "      <th>2</th>\n",
       "      <td>이번 생도 잘 부탁해</td>\n",
       "      <td>sun</td>\n",
       "      <td>3</td>\n",
       "      <td>https://comic.naver.com/webtoon/list?titleId=7...</td>\n",
       "    </tr>\n",
       "    <tr>\n",
       "      <th>3</th>\n",
       "      <td>열렙전사</td>\n",
       "      <td>sun</td>\n",
       "      <td>4</td>\n",
       "      <td>https://comic.naver.com/webtoon/list?titleId=6...</td>\n",
       "    </tr>\n",
       "    <tr>\n",
       "      <th>4</th>\n",
       "      <td>약한영웅</td>\n",
       "      <td>sun</td>\n",
       "      <td>5</td>\n",
       "      <td>https://comic.naver.com/webtoon/list?titleId=7...</td>\n",
       "    </tr>\n",
       "    <tr>\n",
       "      <th>...</th>\n",
       "      <td>...</td>\n",
       "      <td>...</td>\n",
       "      <td>...</td>\n",
       "      <td>...</td>\n",
       "    </tr>\n",
       "    <tr>\n",
       "      <th>56</th>\n",
       "      <td>푸른불꽃</td>\n",
       "      <td>sun</td>\n",
       "      <td>57</td>\n",
       "      <td>https://comic.naver.com/webtoon/list?titleId=7...</td>\n",
       "    </tr>\n",
       "    <tr>\n",
       "      <th>57</th>\n",
       "      <td>데이즈</td>\n",
       "      <td>sun</td>\n",
       "      <td>58</td>\n",
       "      <td>https://comic.naver.com/webtoon/list?titleId=7...</td>\n",
       "    </tr>\n",
       "    <tr>\n",
       "      <th>58</th>\n",
       "      <td>샤인 스타</td>\n",
       "      <td>sun</td>\n",
       "      <td>59</td>\n",
       "      <td>https://comic.naver.com/webtoon/list?titleId=7...</td>\n",
       "    </tr>\n",
       "    <tr>\n",
       "      <th>59</th>\n",
       "      <td>호시탐탐</td>\n",
       "      <td>sun</td>\n",
       "      <td>60</td>\n",
       "      <td>https://comic.naver.com/webtoon/list?titleId=7...</td>\n",
       "    </tr>\n",
       "    <tr>\n",
       "      <th>60</th>\n",
       "      <td>합격시켜주세용</td>\n",
       "      <td>sun</td>\n",
       "      <td>61</td>\n",
       "      <td>https://comic.naver.com/webtoon/list?titleId=7...</td>\n",
       "    </tr>\n",
       "  </tbody>\n",
       "</table>\n",
       "<p>61 rows × 4 columns</p>\n",
       "</div>"
      ]
     },
     "metadata": {},
     "execution_count": 15
    }
   ],
   "metadata": {}
  },
  {
   "cell_type": "code",
   "execution_count": 20,
   "source": [
    "# 데이터 프레임 csv파일저장\r\n",
    "order_table.to_csv('./order_table.csv',index=None)"
   ],
   "outputs": [],
   "metadata": {}
  },
  {
   "cell_type": "code",
   "execution_count": 21,
   "source": [
    "pd.read_csv('./order_table.csv')"
   ],
   "outputs": [
    {
     "output_type": "execute_result",
     "data": {
      "text/plain": [
       "        name weekend  order                                               link\n",
       "0        참교육     mon      1  https://comic.naver.com/webtoon/list?titleId=7...\n",
       "1       신의 탑     mon      2  https://comic.naver.com/webtoon/list?titleId=1...\n",
       "2    뷰티풀 군바리     mon      3  https://comic.naver.com/webtoon/list?titleId=6...\n",
       "3     윈드브레이커     mon      4  https://comic.naver.com/webtoon/list?titleId=6...\n",
       "4       팔이피플     mon      5  https://comic.naver.com/webtoon/list?titleId=7...\n",
       "..       ...     ...    ...                                                ...\n",
       "450     푸른불꽃     sun     57  https://comic.naver.com/webtoon/list?titleId=7...\n",
       "451      데이즈     sun     58  https://comic.naver.com/webtoon/list?titleId=7...\n",
       "452    샤인 스타     sun     59  https://comic.naver.com/webtoon/list?titleId=7...\n",
       "453     호시탐탐     sun     60  https://comic.naver.com/webtoon/list?titleId=7...\n",
       "454  합격시켜주세용     sun     61  https://comic.naver.com/webtoon/list?titleId=7...\n",
       "\n",
       "[455 rows x 4 columns]"
      ],
      "text/html": [
       "<div>\n",
       "<style scoped>\n",
       "    .dataframe tbody tr th:only-of-type {\n",
       "        vertical-align: middle;\n",
       "    }\n",
       "\n",
       "    .dataframe tbody tr th {\n",
       "        vertical-align: top;\n",
       "    }\n",
       "\n",
       "    .dataframe thead th {\n",
       "        text-align: right;\n",
       "    }\n",
       "</style>\n",
       "<table border=\"1\" class=\"dataframe\">\n",
       "  <thead>\n",
       "    <tr style=\"text-align: right;\">\n",
       "      <th></th>\n",
       "      <th>name</th>\n",
       "      <th>weekend</th>\n",
       "      <th>order</th>\n",
       "      <th>link</th>\n",
       "    </tr>\n",
       "  </thead>\n",
       "  <tbody>\n",
       "    <tr>\n",
       "      <th>0</th>\n",
       "      <td>참교육</td>\n",
       "      <td>mon</td>\n",
       "      <td>1</td>\n",
       "      <td>https://comic.naver.com/webtoon/list?titleId=7...</td>\n",
       "    </tr>\n",
       "    <tr>\n",
       "      <th>1</th>\n",
       "      <td>신의 탑</td>\n",
       "      <td>mon</td>\n",
       "      <td>2</td>\n",
       "      <td>https://comic.naver.com/webtoon/list?titleId=1...</td>\n",
       "    </tr>\n",
       "    <tr>\n",
       "      <th>2</th>\n",
       "      <td>뷰티풀 군바리</td>\n",
       "      <td>mon</td>\n",
       "      <td>3</td>\n",
       "      <td>https://comic.naver.com/webtoon/list?titleId=6...</td>\n",
       "    </tr>\n",
       "    <tr>\n",
       "      <th>3</th>\n",
       "      <td>윈드브레이커</td>\n",
       "      <td>mon</td>\n",
       "      <td>4</td>\n",
       "      <td>https://comic.naver.com/webtoon/list?titleId=6...</td>\n",
       "    </tr>\n",
       "    <tr>\n",
       "      <th>4</th>\n",
       "      <td>팔이피플</td>\n",
       "      <td>mon</td>\n",
       "      <td>5</td>\n",
       "      <td>https://comic.naver.com/webtoon/list?titleId=7...</td>\n",
       "    </tr>\n",
       "    <tr>\n",
       "      <th>...</th>\n",
       "      <td>...</td>\n",
       "      <td>...</td>\n",
       "      <td>...</td>\n",
       "      <td>...</td>\n",
       "    </tr>\n",
       "    <tr>\n",
       "      <th>450</th>\n",
       "      <td>푸른불꽃</td>\n",
       "      <td>sun</td>\n",
       "      <td>57</td>\n",
       "      <td>https://comic.naver.com/webtoon/list?titleId=7...</td>\n",
       "    </tr>\n",
       "    <tr>\n",
       "      <th>451</th>\n",
       "      <td>데이즈</td>\n",
       "      <td>sun</td>\n",
       "      <td>58</td>\n",
       "      <td>https://comic.naver.com/webtoon/list?titleId=7...</td>\n",
       "    </tr>\n",
       "    <tr>\n",
       "      <th>452</th>\n",
       "      <td>샤인 스타</td>\n",
       "      <td>sun</td>\n",
       "      <td>59</td>\n",
       "      <td>https://comic.naver.com/webtoon/list?titleId=7...</td>\n",
       "    </tr>\n",
       "    <tr>\n",
       "      <th>453</th>\n",
       "      <td>호시탐탐</td>\n",
       "      <td>sun</td>\n",
       "      <td>60</td>\n",
       "      <td>https://comic.naver.com/webtoon/list?titleId=7...</td>\n",
       "    </tr>\n",
       "    <tr>\n",
       "      <th>454</th>\n",
       "      <td>합격시켜주세용</td>\n",
       "      <td>sun</td>\n",
       "      <td>61</td>\n",
       "      <td>https://comic.naver.com/webtoon/list?titleId=7...</td>\n",
       "    </tr>\n",
       "  </tbody>\n",
       "</table>\n",
       "<p>455 rows × 4 columns</p>\n",
       "</div>"
      ]
     },
     "metadata": {},
     "execution_count": 21
    }
   ],
   "metadata": {}
  },
  {
   "cell_type": "code",
   "execution_count": null,
   "source": [],
   "outputs": [],
   "metadata": {}
  }
 ],
 "metadata": {
  "orig_nbformat": 4,
  "language_info": {
   "name": "python",
   "version": "3.8.8",
   "mimetype": "text/x-python",
   "codemirror_mode": {
    "name": "ipython",
    "version": 3
   },
   "pygments_lexer": "ipython3",
   "nbconvert_exporter": "python",
   "file_extension": ".py"
  },
  "kernelspec": {
   "name": "python3",
   "display_name": "Python 3.8.8 64-bit ('base': conda)"
  },
  "interpreter": {
   "hash": "ed6ebbd231714123173a1b92784e20951cf2290259ba1bfa87e226c60691e40d"
  }
 },
 "nbformat": 4,
 "nbformat_minor": 2
}