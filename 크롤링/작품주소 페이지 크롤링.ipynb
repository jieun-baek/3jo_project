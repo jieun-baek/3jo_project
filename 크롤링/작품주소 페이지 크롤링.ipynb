{
 "cells": [
  {
   "cell_type": "code",
   "execution_count": 6,
   "source": [
    "# 웹툰 첫페이지 크롤링 #\r\n",
    "\r\n",
    "# 필요 모듈 임포트\r\n",
    "from urllib.request import Request, urlopen\r\n",
    "from bs4 import BeautifulSoup\r\n",
    "import numpy as np\r\n",
    "import pandas as pd\r\n"
   ],
   "outputs": [],
   "metadata": {}
  },
  {
   "cell_type": "code",
   "execution_count": 12,
   "source": [
    "# 주소 불러오기\r\n",
    "#pd.read_csv('./order_table.csv')['link'][0]\r\n",
    "links = pd.read_csv('./order_table.csv')['link']"
   ],
   "outputs": [],
   "metadata": {}
  },
  {
   "cell_type": "code",
   "execution_count": 92,
   "source": [
    "links[0:1][0]"
   ],
   "outputs": [
    {
     "output_type": "execute_result",
     "data": {
      "text/plain": [
       "'https://comic.naver.com/webtoon/list?titleId=758037&weekday=mon'"
      ]
     },
     "metadata": {},
     "execution_count": 92
    }
   ],
   "metadata": {}
  },
  {
   "cell_type": "code",
   "execution_count": 100,
   "source": [
    "np.arange(10)"
   ],
   "outputs": [
    {
     "output_type": "execute_result",
     "data": {
      "text/plain": [
       "array([0, 1, 2, 3, 4, 5, 6, 7, 8, 9])"
      ]
     },
     "metadata": {},
     "execution_count": 100
    }
   ],
   "metadata": {}
  },
  {
   "cell_type": "code",
   "execution_count": 120,
   "source": [
    "# 주소 및 파싱\r\n",
    "# 기본정보 테이블 작품명 /  작가 / 소개글 / 장르 / 작품 썸네일 주소\r\n",
    "\r\n",
    "basic_table = pd.DataFrame()\r\n",
    "\r\n",
    "# 이미지 정보 테이블 작품명 / 이미지(각화 작품 썸네일 주소) / 제목(~화) / 각화 주소\r\n",
    "image_table = pd.DataFrame()\r\n",
    "\r\n",
    "for link in links:\r\n",
    "    url = link\r\n",
    "    request = Request(url)\r\n",
    "    request.get_method = lambda: 'GET'\r\n",
    "    response_body = urlopen(request).read()\r\n",
    "    soup = BeautifulSoup(response_body, 'html.parser')\r\n",
    "\r\n",
    "    rough = soup.select('#content > div.comicinfo')\r\n",
    "    name = []\r\n",
    "    writer = []\r\n",
    "    summary = []\r\n",
    "    genre = []\r\n",
    "    weekend = []\r\n",
    "    order = []\r\n",
    "    link1 = []\r\n",
    "    name.append(rough[0].img.get('title'))\r\n",
    "    writer.append(rough[0].find_all('span')[1].string.replace('\t\t\t\t\t\t\t','').replace('\\n',''))\r\n",
    "    summary.append(rough[0].p.text)\r\n",
    "    genre.append(rough[0].find_all('span')[2].string)\r\n",
    "    link1.append(rough[0].img.get('src'))\r\n",
    "\r\n",
    "    # 찾은 정보 데이터 프레임 안에 넣기\r\n",
    "    basic_table_temp = pd.DataFrame(name).rename(columns={0:'name'})\r\n",
    "    basic_table_temp['writer'] = writer\r\n",
    "    basic_table_temp['summary'] = summary\r\n",
    "    basic_table_temp['genre'] = genre\r\n",
    "    basic_table_temp['link2'] = link1\r\n",
    "\r\n",
    "    if link == links[0]:\r\n",
    "        basic_table = basic_table_temp\r\n",
    "    else:\r\n",
    "        basic_table = pd.concat([basic_table,basic_table_temp], axis=0)\r\n",
    "    \r\n",
    "\r\n",
    "    name1 = []\r\n",
    "    link2 = []\r\n",
    "    title = []\r\n",
    "    link3 = []\r\n",
    "    if len(soup.select('#content > table')[0].find_all('a')) ==22:\r\n",
    "        for i in np.arange(10):\r\n",
    "            name1.append(rough[0].img.get('title'))\r\n",
    "            link2.append(soup.select('#content > table')[0].find_all('a')[2+i*2].img.get('src'))\r\n",
    "            title.append(soup.select('#content > table')[0].find_all('a')[2+i*2].img.get('alt'))\r\n",
    "            link3.append('https://comic.naver.com'+soup.select('#content > table')[0].find_all('a')[2+i*2].get('href'))\r\n",
    "        url2 = url + '&page=2'\r\n",
    "        request = Request(url2)\r\n",
    "        request.get_method = lambda: 'GET'\r\n",
    "        response_body = urlopen(request).read()\r\n",
    "        soup = BeautifulSoup(response_body, 'html.parser')\r\n",
    "        rough = soup.select('#content > div.comicinfo')\r\n",
    "        for i in np.arange(10):\r\n",
    "            name1.append(rough[0].img.get('title'))\r\n",
    "            link2.append(soup.select('#content > table')[0].find_all('a')[2+i*2].img.get('src'))\r\n",
    "            title.append(soup.select('#content > table')[0].find_all('a')[2+i*2].img.get('alt'))\r\n",
    "            link3.append('https://comic.naver.com'+soup.select('#content > table')[0].find_all('a')[2+i*2].get('href'))\r\n",
    "\r\n",
    "        # 찾은 정보 데이터 프레임 안에 넣기\r\n",
    "        image_table_temp = pd.DataFrame(name1).rename(columns={0:'name'})\r\n",
    "        image_table_temp['page_image'] = link2\r\n",
    "        image_table_temp['title'] = title\r\n",
    "        image_table_temp['page_link'] = link3\r\n",
    "        \r\n",
    "        if link == links[0]:\r\n",
    "            image_table = image_table_temp\r\n",
    "        else:\r\n",
    "            image_table = pd.concat([image_table,image_table_temp], axis=0)\r\n",
    "\r\n",
    "    elif len(soup.select('#content > table')[0].find_all('a')) ==21:\r\n",
    "        for i in np.arange(10):\r\n",
    "            name1.append(rough[0].img.get('title'))\r\n",
    "            link2.append(soup.select('#content > table')[0].find_all('a')[2+i*2].img.get('src'))\r\n",
    "            title.append(soup.select('#content > table')[0].find_all('a')[2+i*2].img.get('alt'))\r\n",
    "            link3.append('https://comic.naver.com'+soup.select('#content > table')[0].find_all('a')[2+i*2].get('href'))\r\n",
    "        url2 = url + '&page=2'\r\n",
    "        request = Request(url2)\r\n",
    "        request.get_method = lambda: 'GET'\r\n",
    "        response_body = urlopen(request).read()\r\n",
    "        soup = BeautifulSoup(response_body, 'html.parser')\r\n",
    "        rough = soup.select('#content > div.comicinfo')\r\n",
    "        for i in np.arange(10):\r\n",
    "            name1.append(rough[0].img.get('title'))\r\n",
    "            link2.append(soup.select('#content > table')[0].find_all('a')[2+i*2].img.get('src'))\r\n",
    "            title.append(soup.select('#content > table')[0].find_all('a')[2+i*2].img.get('alt'))\r\n",
    "            link3.append('https://comic.naver.com'+soup.select('#content > table')[0].find_all('a')[2+i*2].get('href'))\r\n",
    "\r\n",
    "        # 찾은 정보 데이터 프레임 안에 넣기\r\n",
    "        image_table_temp = pd.DataFrame(name1).rename(columns={0:'name'})\r\n",
    "        image_table_temp['page_image'] = link2\r\n",
    "        image_table_temp['title'] = title\r\n",
    "        image_table_temp['page_link'] = link3\r\n",
    "        \r\n",
    "        if link == links[0]:\r\n",
    "            image_table = image_table_temp\r\n",
    "        else:\r\n",
    "            image_table = pd.concat([image_table,image_table_temp], axis=0)\r\n",
    "    else :\r\n",
    "        print('error')\r\n",
    "\r\n",
    "\r\n",
    "\r\n",
    "        \r\n"
   ],
   "outputs": [
    {
     "output_type": "error",
     "ename": "AttributeError",
     "evalue": "'NoneType' object has no attribute 'get'",
     "traceback": [
      "\u001b[1;31m---------------------------------------------------------------------------\u001b[0m",
      "\u001b[1;31mAttributeError\u001b[0m                            Traceback (most recent call last)",
      "\u001b[1;32m<ipython-input-120-ca53ed893dbb>\u001b[0m in \u001b[0;36m<module>\u001b[1;34m\u001b[0m\n\u001b[0;32m     47\u001b[0m     \u001b[1;32mfor\u001b[0m \u001b[0mi\u001b[0m \u001b[1;32min\u001b[0m \u001b[0mnp\u001b[0m\u001b[1;33m.\u001b[0m\u001b[0marange\u001b[0m\u001b[1;33m(\u001b[0m\u001b[1;36m10\u001b[0m\u001b[1;33m)\u001b[0m\u001b[1;33m:\u001b[0m\u001b[1;33m\u001b[0m\u001b[1;33m\u001b[0m\u001b[0m\n\u001b[0;32m     48\u001b[0m         \u001b[0mname1\u001b[0m\u001b[1;33m.\u001b[0m\u001b[0mappend\u001b[0m\u001b[1;33m(\u001b[0m\u001b[0mrough\u001b[0m\u001b[1;33m[\u001b[0m\u001b[1;36m0\u001b[0m\u001b[1;33m]\u001b[0m\u001b[1;33m.\u001b[0m\u001b[0mimg\u001b[0m\u001b[1;33m.\u001b[0m\u001b[0mget\u001b[0m\u001b[1;33m(\u001b[0m\u001b[1;34m'title'\u001b[0m\u001b[1;33m)\u001b[0m\u001b[1;33m)\u001b[0m\u001b[1;33m\u001b[0m\u001b[1;33m\u001b[0m\u001b[0m\n\u001b[1;32m---> 49\u001b[1;33m         \u001b[0mlink2\u001b[0m\u001b[1;33m.\u001b[0m\u001b[0mappend\u001b[0m\u001b[1;33m(\u001b[0m\u001b[0msoup\u001b[0m\u001b[1;33m.\u001b[0m\u001b[0mselect\u001b[0m\u001b[1;33m(\u001b[0m\u001b[1;34m'#content > table'\u001b[0m\u001b[1;33m)\u001b[0m\u001b[1;33m[\u001b[0m\u001b[1;36m0\u001b[0m\u001b[1;33m]\u001b[0m\u001b[1;33m.\u001b[0m\u001b[0mfind_all\u001b[0m\u001b[1;33m(\u001b[0m\u001b[1;34m'a'\u001b[0m\u001b[1;33m)\u001b[0m\u001b[1;33m[\u001b[0m\u001b[1;36m2\u001b[0m\u001b[1;33m+\u001b[0m\u001b[0mi\u001b[0m\u001b[1;33m*\u001b[0m\u001b[1;36m2\u001b[0m\u001b[1;33m]\u001b[0m\u001b[1;33m.\u001b[0m\u001b[0mimg\u001b[0m\u001b[1;33m.\u001b[0m\u001b[0mget\u001b[0m\u001b[1;33m(\u001b[0m\u001b[1;34m'src'\u001b[0m\u001b[1;33m)\u001b[0m\u001b[1;33m)\u001b[0m\u001b[1;33m\u001b[0m\u001b[1;33m\u001b[0m\u001b[0m\n\u001b[0m\u001b[0;32m     50\u001b[0m         \u001b[0mtitle\u001b[0m\u001b[1;33m.\u001b[0m\u001b[0mappend\u001b[0m\u001b[1;33m(\u001b[0m\u001b[0msoup\u001b[0m\u001b[1;33m.\u001b[0m\u001b[0mselect\u001b[0m\u001b[1;33m(\u001b[0m\u001b[1;34m'#content > table'\u001b[0m\u001b[1;33m)\u001b[0m\u001b[1;33m[\u001b[0m\u001b[1;36m0\u001b[0m\u001b[1;33m]\u001b[0m\u001b[1;33m.\u001b[0m\u001b[0mfind_all\u001b[0m\u001b[1;33m(\u001b[0m\u001b[1;34m'a'\u001b[0m\u001b[1;33m)\u001b[0m\u001b[1;33m[\u001b[0m\u001b[1;36m2\u001b[0m\u001b[1;33m+\u001b[0m\u001b[0mi\u001b[0m\u001b[1;33m*\u001b[0m\u001b[1;36m2\u001b[0m\u001b[1;33m]\u001b[0m\u001b[1;33m.\u001b[0m\u001b[0mimg\u001b[0m\u001b[1;33m.\u001b[0m\u001b[0mget\u001b[0m\u001b[1;33m(\u001b[0m\u001b[1;34m'alt'\u001b[0m\u001b[1;33m)\u001b[0m\u001b[1;33m)\u001b[0m\u001b[1;33m\u001b[0m\u001b[1;33m\u001b[0m\u001b[0m\n\u001b[0;32m     51\u001b[0m         \u001b[0mlink3\u001b[0m\u001b[1;33m.\u001b[0m\u001b[0mappend\u001b[0m\u001b[1;33m(\u001b[0m\u001b[1;34m'https://comic.naver.com'\u001b[0m\u001b[1;33m+\u001b[0m\u001b[0msoup\u001b[0m\u001b[1;33m.\u001b[0m\u001b[0mselect\u001b[0m\u001b[1;33m(\u001b[0m\u001b[1;34m'#content > table'\u001b[0m\u001b[1;33m)\u001b[0m\u001b[1;33m[\u001b[0m\u001b[1;36m0\u001b[0m\u001b[1;33m]\u001b[0m\u001b[1;33m.\u001b[0m\u001b[0mfind_all\u001b[0m\u001b[1;33m(\u001b[0m\u001b[1;34m'a'\u001b[0m\u001b[1;33m)\u001b[0m\u001b[1;33m[\u001b[0m\u001b[1;36m2\u001b[0m\u001b[1;33m+\u001b[0m\u001b[0mi\u001b[0m\u001b[1;33m*\u001b[0m\u001b[1;36m2\u001b[0m\u001b[1;33m]\u001b[0m\u001b[1;33m.\u001b[0m\u001b[0mget\u001b[0m\u001b[1;33m(\u001b[0m\u001b[1;34m'href'\u001b[0m\u001b[1;33m)\u001b[0m\u001b[1;33m)\u001b[0m\u001b[1;33m\u001b[0m\u001b[1;33m\u001b[0m\u001b[0m\n",
      "\u001b[1;31mAttributeError\u001b[0m: 'NoneType' object has no attribute 'get'"
     ]
    }
   ],
   "metadata": {}
  },
  {
   "cell_type": "code",
   "execution_count": 130,
   "source": [
    "url = links[0]\r\n",
    "request = Request(url)\r\n",
    "request.get_method = lambda: 'GET'\r\n",
    "response_body = urlopen(request).read()\r\n",
    "soup = BeautifulSoup(response_body, 'html.parser')\r\n",
    "\r\n",
    "len(soup.select('#content > table')[0].find_all('a'))"
   ],
   "outputs": [
    {
     "output_type": "execute_result",
     "data": {
      "text/plain": [
       "22"
      ]
     },
     "metadata": {},
     "execution_count": 130
    }
   ],
   "metadata": {}
  },
  {
   "cell_type": "code",
   "execution_count": 129,
   "source": [
    "len(soup.select('#content > table')[0].find_all('a'))"
   ],
   "outputs": [
    {
     "output_type": "execute_result",
     "data": {
      "text/plain": [
       "21"
      ]
     },
     "metadata": {},
     "execution_count": 129
    }
   ],
   "metadata": {}
  },
  {
   "cell_type": "code",
   "execution_count": 122,
   "source": [
    "url"
   ],
   "outputs": [
    {
     "output_type": "execute_result",
     "data": {
      "text/plain": [
       "'https://comic.naver.com/webtoon/list?titleId=648419&weekday=mon'"
      ]
     },
     "metadata": {},
     "execution_count": 122
    }
   ],
   "metadata": {}
  },
  {
   "cell_type": "markdown",
   "source": [
    "soup.select('#content > table')[0].find_all('a')[2+i*2].img.get('src')"
   ],
   "metadata": {}
  },
  {
   "cell_type": "code",
   "execution_count": 118,
   "source": [
    "image_table"
   ],
   "outputs": [
    {
     "output_type": "execute_result",
     "data": {
      "text/plain": [
       "   name                                         page_image title  \\\n",
       "0   참교육  https://shared-comic.pstatic.net/thumb/webtoon...   42화   \n",
       "1   참교육  https://shared-comic.pstatic.net/thumb/webtoon...   41화   \n",
       "2   참교육  https://shared-comic.pstatic.net/thumb/webtoon...   40화   \n",
       "3   참교육  https://shared-comic.pstatic.net/thumb/webtoon...   39화   \n",
       "4   참교육  https://shared-comic.pstatic.net/thumb/webtoon...   38화   \n",
       "5   참교육  https://shared-comic.pstatic.net/thumb/webtoon...   37화   \n",
       "6   참교육  https://shared-comic.pstatic.net/thumb/webtoon...   36화   \n",
       "7   참교육  https://shared-comic.pstatic.net/thumb/webtoon...   35화   \n",
       "8   참교육  https://shared-comic.pstatic.net/thumb/webtoon...   34화   \n",
       "9   참교육  https://shared-comic.pstatic.net/thumb/webtoon...   33화   \n",
       "10  참교육  https://shared-comic.pstatic.net/thumb/webtoon...   32화   \n",
       "11  참교육  https://shared-comic.pstatic.net/thumb/webtoon...   31화   \n",
       "12  참교육  https://shared-comic.pstatic.net/thumb/webtoon...   30화   \n",
       "13  참교육  https://shared-comic.pstatic.net/thumb/webtoon...   29화   \n",
       "14  참교육  https://shared-comic.pstatic.net/thumb/webtoon...   28화   \n",
       "15  참교육  https://shared-comic.pstatic.net/thumb/webtoon...   27화   \n",
       "16  참교육  https://shared-comic.pstatic.net/thumb/webtoon...   26화   \n",
       "17  참교육  https://shared-comic.pstatic.net/thumb/webtoon...   25화   \n",
       "18  참교육  https://shared-comic.pstatic.net/thumb/webtoon...   24화   \n",
       "19  참교육  https://shared-comic.pstatic.net/thumb/webtoon...   23화   \n",
       "\n",
       "                                            page_link  \n",
       "0   https://comic.naver.com/webtoon/detail?titleId...  \n",
       "1   https://comic.naver.com/webtoon/detail?titleId...  \n",
       "2   https://comic.naver.com/webtoon/detail?titleId...  \n",
       "3   https://comic.naver.com/webtoon/detail?titleId...  \n",
       "4   https://comic.naver.com/webtoon/detail?titleId...  \n",
       "5   https://comic.naver.com/webtoon/detail?titleId...  \n",
       "6   https://comic.naver.com/webtoon/detail?titleId...  \n",
       "7   https://comic.naver.com/webtoon/detail?titleId...  \n",
       "8   https://comic.naver.com/webtoon/detail?titleId...  \n",
       "9   https://comic.naver.com/webtoon/detail?titleId...  \n",
       "10  https://comic.naver.com/webtoon/detail?titleId...  \n",
       "11  https://comic.naver.com/webtoon/detail?titleId...  \n",
       "12  https://comic.naver.com/webtoon/detail?titleId...  \n",
       "13  https://comic.naver.com/webtoon/detail?titleId...  \n",
       "14  https://comic.naver.com/webtoon/detail?titleId...  \n",
       "15  https://comic.naver.com/webtoon/detail?titleId...  \n",
       "16  https://comic.naver.com/webtoon/detail?titleId...  \n",
       "17  https://comic.naver.com/webtoon/detail?titleId...  \n",
       "18  https://comic.naver.com/webtoon/detail?titleId...  \n",
       "19  https://comic.naver.com/webtoon/detail?titleId...  "
      ],
      "text/html": [
       "<div>\n",
       "<style scoped>\n",
       "    .dataframe tbody tr th:only-of-type {\n",
       "        vertical-align: middle;\n",
       "    }\n",
       "\n",
       "    .dataframe tbody tr th {\n",
       "        vertical-align: top;\n",
       "    }\n",
       "\n",
       "    .dataframe thead th {\n",
       "        text-align: right;\n",
       "    }\n",
       "</style>\n",
       "<table border=\"1\" class=\"dataframe\">\n",
       "  <thead>\n",
       "    <tr style=\"text-align: right;\">\n",
       "      <th></th>\n",
       "      <th>name</th>\n",
       "      <th>page_image</th>\n",
       "      <th>title</th>\n",
       "      <th>page_link</th>\n",
       "    </tr>\n",
       "  </thead>\n",
       "  <tbody>\n",
       "    <tr>\n",
       "      <th>0</th>\n",
       "      <td>참교육</td>\n",
       "      <td>https://shared-comic.pstatic.net/thumb/webtoon...</td>\n",
       "      <td>42화</td>\n",
       "      <td>https://comic.naver.com/webtoon/detail?titleId...</td>\n",
       "    </tr>\n",
       "    <tr>\n",
       "      <th>1</th>\n",
       "      <td>참교육</td>\n",
       "      <td>https://shared-comic.pstatic.net/thumb/webtoon...</td>\n",
       "      <td>41화</td>\n",
       "      <td>https://comic.naver.com/webtoon/detail?titleId...</td>\n",
       "    </tr>\n",
       "    <tr>\n",
       "      <th>2</th>\n",
       "      <td>참교육</td>\n",
       "      <td>https://shared-comic.pstatic.net/thumb/webtoon...</td>\n",
       "      <td>40화</td>\n",
       "      <td>https://comic.naver.com/webtoon/detail?titleId...</td>\n",
       "    </tr>\n",
       "    <tr>\n",
       "      <th>3</th>\n",
       "      <td>참교육</td>\n",
       "      <td>https://shared-comic.pstatic.net/thumb/webtoon...</td>\n",
       "      <td>39화</td>\n",
       "      <td>https://comic.naver.com/webtoon/detail?titleId...</td>\n",
       "    </tr>\n",
       "    <tr>\n",
       "      <th>4</th>\n",
       "      <td>참교육</td>\n",
       "      <td>https://shared-comic.pstatic.net/thumb/webtoon...</td>\n",
       "      <td>38화</td>\n",
       "      <td>https://comic.naver.com/webtoon/detail?titleId...</td>\n",
       "    </tr>\n",
       "    <tr>\n",
       "      <th>5</th>\n",
       "      <td>참교육</td>\n",
       "      <td>https://shared-comic.pstatic.net/thumb/webtoon...</td>\n",
       "      <td>37화</td>\n",
       "      <td>https://comic.naver.com/webtoon/detail?titleId...</td>\n",
       "    </tr>\n",
       "    <tr>\n",
       "      <th>6</th>\n",
       "      <td>참교육</td>\n",
       "      <td>https://shared-comic.pstatic.net/thumb/webtoon...</td>\n",
       "      <td>36화</td>\n",
       "      <td>https://comic.naver.com/webtoon/detail?titleId...</td>\n",
       "    </tr>\n",
       "    <tr>\n",
       "      <th>7</th>\n",
       "      <td>참교육</td>\n",
       "      <td>https://shared-comic.pstatic.net/thumb/webtoon...</td>\n",
       "      <td>35화</td>\n",
       "      <td>https://comic.naver.com/webtoon/detail?titleId...</td>\n",
       "    </tr>\n",
       "    <tr>\n",
       "      <th>8</th>\n",
       "      <td>참교육</td>\n",
       "      <td>https://shared-comic.pstatic.net/thumb/webtoon...</td>\n",
       "      <td>34화</td>\n",
       "      <td>https://comic.naver.com/webtoon/detail?titleId...</td>\n",
       "    </tr>\n",
       "    <tr>\n",
       "      <th>9</th>\n",
       "      <td>참교육</td>\n",
       "      <td>https://shared-comic.pstatic.net/thumb/webtoon...</td>\n",
       "      <td>33화</td>\n",
       "      <td>https://comic.naver.com/webtoon/detail?titleId...</td>\n",
       "    </tr>\n",
       "    <tr>\n",
       "      <th>10</th>\n",
       "      <td>참교육</td>\n",
       "      <td>https://shared-comic.pstatic.net/thumb/webtoon...</td>\n",
       "      <td>32화</td>\n",
       "      <td>https://comic.naver.com/webtoon/detail?titleId...</td>\n",
       "    </tr>\n",
       "    <tr>\n",
       "      <th>11</th>\n",
       "      <td>참교육</td>\n",
       "      <td>https://shared-comic.pstatic.net/thumb/webtoon...</td>\n",
       "      <td>31화</td>\n",
       "      <td>https://comic.naver.com/webtoon/detail?titleId...</td>\n",
       "    </tr>\n",
       "    <tr>\n",
       "      <th>12</th>\n",
       "      <td>참교육</td>\n",
       "      <td>https://shared-comic.pstatic.net/thumb/webtoon...</td>\n",
       "      <td>30화</td>\n",
       "      <td>https://comic.naver.com/webtoon/detail?titleId...</td>\n",
       "    </tr>\n",
       "    <tr>\n",
       "      <th>13</th>\n",
       "      <td>참교육</td>\n",
       "      <td>https://shared-comic.pstatic.net/thumb/webtoon...</td>\n",
       "      <td>29화</td>\n",
       "      <td>https://comic.naver.com/webtoon/detail?titleId...</td>\n",
       "    </tr>\n",
       "    <tr>\n",
       "      <th>14</th>\n",
       "      <td>참교육</td>\n",
       "      <td>https://shared-comic.pstatic.net/thumb/webtoon...</td>\n",
       "      <td>28화</td>\n",
       "      <td>https://comic.naver.com/webtoon/detail?titleId...</td>\n",
       "    </tr>\n",
       "    <tr>\n",
       "      <th>15</th>\n",
       "      <td>참교육</td>\n",
       "      <td>https://shared-comic.pstatic.net/thumb/webtoon...</td>\n",
       "      <td>27화</td>\n",
       "      <td>https://comic.naver.com/webtoon/detail?titleId...</td>\n",
       "    </tr>\n",
       "    <tr>\n",
       "      <th>16</th>\n",
       "      <td>참교육</td>\n",
       "      <td>https://shared-comic.pstatic.net/thumb/webtoon...</td>\n",
       "      <td>26화</td>\n",
       "      <td>https://comic.naver.com/webtoon/detail?titleId...</td>\n",
       "    </tr>\n",
       "    <tr>\n",
       "      <th>17</th>\n",
       "      <td>참교육</td>\n",
       "      <td>https://shared-comic.pstatic.net/thumb/webtoon...</td>\n",
       "      <td>25화</td>\n",
       "      <td>https://comic.naver.com/webtoon/detail?titleId...</td>\n",
       "    </tr>\n",
       "    <tr>\n",
       "      <th>18</th>\n",
       "      <td>참교육</td>\n",
       "      <td>https://shared-comic.pstatic.net/thumb/webtoon...</td>\n",
       "      <td>24화</td>\n",
       "      <td>https://comic.naver.com/webtoon/detail?titleId...</td>\n",
       "    </tr>\n",
       "    <tr>\n",
       "      <th>19</th>\n",
       "      <td>참교육</td>\n",
       "      <td>https://shared-comic.pstatic.net/thumb/webtoon...</td>\n",
       "      <td>23화</td>\n",
       "      <td>https://comic.naver.com/webtoon/detail?titleId...</td>\n",
       "    </tr>\n",
       "  </tbody>\n",
       "</table>\n",
       "</div>"
      ]
     },
     "metadata": {},
     "execution_count": 118
    }
   ],
   "metadata": {}
  },
  {
   "cell_type": "code",
   "execution_count": 96,
   "source": [
    "basic_table"
   ],
   "outputs": [
    {
     "output_type": "execute_result",
     "data": {
      "text/plain": [
       "  name     writer                                            summary    genre  \\\n",
       "0  참교육  채용택 / 한가람  무너진 교권을 지키기 위해 교권보호국 소속 나화진의 참교육이 시작된다!<부활남> 채...  스토리, 액션   \n",
       "\n",
       "                                               link2  \n",
       "0  https://shared-comic.pstatic.net/thumb/webtoon...  "
      ],
      "text/html": [
       "<div>\n",
       "<style scoped>\n",
       "    .dataframe tbody tr th:only-of-type {\n",
       "        vertical-align: middle;\n",
       "    }\n",
       "\n",
       "    .dataframe tbody tr th {\n",
       "        vertical-align: top;\n",
       "    }\n",
       "\n",
       "    .dataframe thead th {\n",
       "        text-align: right;\n",
       "    }\n",
       "</style>\n",
       "<table border=\"1\" class=\"dataframe\">\n",
       "  <thead>\n",
       "    <tr style=\"text-align: right;\">\n",
       "      <th></th>\n",
       "      <th>name</th>\n",
       "      <th>writer</th>\n",
       "      <th>summary</th>\n",
       "      <th>genre</th>\n",
       "      <th>link2</th>\n",
       "    </tr>\n",
       "  </thead>\n",
       "  <tbody>\n",
       "    <tr>\n",
       "      <th>0</th>\n",
       "      <td>참교육</td>\n",
       "      <td>채용택 / 한가람</td>\n",
       "      <td>무너진 교권을 지키기 위해 교권보호국 소속 나화진의 참교육이 시작된다!&lt;부활남&gt; 채...</td>\n",
       "      <td>스토리, 액션</td>\n",
       "      <td>https://shared-comic.pstatic.net/thumb/webtoon...</td>\n",
       "    </tr>\n",
       "  </tbody>\n",
       "</table>\n",
       "</div>"
      ]
     },
     "metadata": {},
     "execution_count": 96
    }
   ],
   "metadata": {}
  },
  {
   "cell_type": "code",
   "execution_count": 51,
   "source": [
    "# 원하는 정보 찾기\r\n",
    "# 필요한 정보로 분리 작업\r\n",
    "# 기본정보 테이블 작품명 /  작가 / 소개글 / 장르 / 웹툰 좋아요(전체) / 작품 썸네일 주소\r\n",
    "basic_table = pd.DataFrame()\r\n",
    "# 이미지 정보 테이블 작품명 / 이미지(각화 작품 썸네일 주소) / 제목(~화) / 각화 주소\r\n",
    "image_table = pd.DataFrame()"
   ],
   "outputs": [],
   "metadata": {}
  },
  {
   "cell_type": "code",
   "execution_count": 87,
   "source": [
    "#확인용 셀"
   ],
   "outputs": [],
   "metadata": {}
  },
  {
   "cell_type": "code",
   "execution_count": 52,
   "source": [
    "rough = soup.select('#content > div.comicinfo')"
   ],
   "outputs": [],
   "metadata": {}
  },
  {
   "cell_type": "code",
   "execution_count": 53,
   "source": [
    "print(rough[0])"
   ],
   "outputs": [
    {
     "output_type": "stream",
     "name": "stdout",
     "text": [
      "<div class=\"comicinfo\" style=\"\">\n",
      "<div class=\"thumb\">\n",
      "<a href=\"/webtoon/list?titleId=758037\" onclick=\"nclk_v2(event,'inf.img')\">\n",
      "<img alt=\"참교육\" height=\"101\" onerror=\"this.src='https://ssl.pstatic.net/static/comic/images/migration/common/non125_101.gif'\" src=\"https://shared-comic.pstatic.net/thumb/webtoon/758037/thumbnail/thumbnail_IMAG06_794bcc1e-23aa-4c35-a335-b5d21b4bc2ab.jpg\" title=\"참교육\" width=\"125\"/>\n",
      "<span class=\"mask\"></span>\n",
      "</a>\n",
      "</div>\n",
      "<div class=\"detail\">\n",
      "<h2>\n",
      "\t\t\t        참교육<span class=\"wrt_nm\">\n",
      "\t\t\t\t\t\t\t채용택 / 한가람</span>\n",
      "</h2>\n",
      "<p>무너진 교권을 지키기 위해 교권보호국 소속 나화진의 참교육이 시작된다!<br/>&lt;부활남&gt; 채용택 작가 X &lt;신석기녀&gt; 한가람 작가의 신작!</p>\n",
      "<p class=\"detail_info\"><span class=\"genre\">스토리, 액션</span><span class=\"age\">15세 이용가</span></p>\n",
      "<ul class=\"btn_group\">\n",
      "<li><a class=\"book_maker\" href=\"#\" onclick=\"nclk_v2(event,'inf.zzim');return actionRunner.addFavoriteWebtoon('758037');\" title=\"관심웹툰\"><span>관심웹툰</span></a></li>\n",
      "<li><a class=\"first\" href=\"#\" onclick=\"nclk_v2(event,'inf.first');return checkServiceCode('S00','1')\" title=\"첫회보기\"><span>첫회보기</span></a></li>\n",
      "<li><a class=\"other2\" href=\"#\" id=\"other_content\" onclick=\"nclk_v2(event,'inf.artist');return actionRunner.artistForArtistTitle(this)\" title=\"작가의 다른 작품\"><span>작가의 다른 작품</span></a></li>\n",
      "<!-- [D] pre_view 클래스에 완결인 경우 end 클래스 추가 및 span에 설명 변경-->\n",
      "<li>\n",
      "</li>\n",
      "<li>\n",
      "<div class=\"u_likeit_module\">\n",
      "</div>\n",
      "</li>\n",
      "</ul>\n",
      "</div>\n",
      "</div>\n"
     ]
    }
   ],
   "metadata": {}
  },
  {
   "cell_type": "code",
   "execution_count": 26,
   "source": [
    "print(rough[0].img.get('title'))"
   ],
   "outputs": [
    {
     "output_type": "stream",
     "name": "stdout",
     "text": [
      "참교육\n"
     ]
    }
   ],
   "metadata": {}
  },
  {
   "cell_type": "code",
   "execution_count": 105,
   "source": [
    "print(rough[0].find_all('span')[1].string.replace('\t\t\t\t\t\t\t',''))"
   ],
   "outputs": [
    {
     "output_type": "stream",
     "name": "stdout",
     "text": [
      "\n",
      "채용택 / 한가람\n"
     ]
    }
   ],
   "metadata": {}
  },
  {
   "cell_type": "code",
   "execution_count": 57,
   "source": [
    "print(rough[0].p.text)"
   ],
   "outputs": [
    {
     "output_type": "stream",
     "name": "stdout",
     "text": [
      "무너진 교권을 지키기 위해 교권보호국 소속 나화진의 참교육이 시작된다!<부활남> 채용택 작가 X <신석기녀> 한가람 작가의 신작!\n"
     ]
    }
   ],
   "metadata": {}
  },
  {
   "cell_type": "code",
   "execution_count": 59,
   "source": [
    "print(rough[0].find_all('span')[2].string)"
   ],
   "outputs": [
    {
     "output_type": "stream",
     "name": "stdout",
     "text": [
      "스토리, 액션\n"
     ]
    }
   ],
   "metadata": {}
  },
  {
   "cell_type": "markdown",
   "source": [],
   "metadata": {}
  },
  {
   "cell_type": "code",
   "execution_count": 23,
   "source": [
    "print(rough[0].img.get('src'))"
   ],
   "outputs": [
    {
     "output_type": "stream",
     "name": "stdout",
     "text": [
      "https://shared-comic.pstatic.net/thumb/webtoon/758037/thumbnail/thumbnail_IMAG06_794bcc1e-23aa-4c35-a335-b5d21b4bc2ab.jpg\n"
     ]
    }
   ],
   "metadata": {}
  },
  {
   "cell_type": "code",
   "execution_count": 62,
   "source": [
    "rough = soup.select('#content > table > tbody')"
   ],
   "outputs": [],
   "metadata": {}
  },
  {
   "cell_type": "code",
   "execution_count": null,
   "source": [
    "# 이미지 정보 테이블 작품명 / 이미지(각화 작품 썸네일 주소) / 제목(~화) / 각화 주소\r\n",
    "#작품명 - 위에서 가져옴"
   ],
   "outputs": [],
   "metadata": {}
  },
  {
   "cell_type": "code",
   "execution_count": 116,
   "source": [
    "print(soup.select('#content > table')[0].find_all('a')[2])"
   ],
   "outputs": [
    {
     "output_type": "stream",
     "name": "stdout",
     "text": [
      "<a href=\"/webtoon/detail?titleId=758037&amp;no=42&amp;weekday=mon\" onclick=\"nclk_v2(event,'lst.img','758037','42')\">\n",
      "<img alt=\"42화\" height=\"41\" onerror=\"this.src='https://ssl.pstatic.net/static/comic/images/migration/common/non71_41.gif'\" src=\"https://shared-comic.pstatic.net/thumb/webtoon/758037/42/thumbnail_202x120_0622276d-e62d-4c2b-80b3-6ac184974895.jpg\" title=\"42화\" width=\"71\"/>\n",
      "<span class=\"mask\"></span>\n",
      "</a>\n"
     ]
    }
   ],
   "metadata": {}
  },
  {
   "cell_type": "code",
   "execution_count": 86,
   "source": [
    "print(soup.select('#content > table')[0].find_all('a')[2].img.get('src'))"
   ],
   "outputs": [
    {
     "output_type": "stream",
     "name": "stdout",
     "text": [
      "https://shared-comic.pstatic.net/thumb/webtoon/758037/42/thumbnail_202x120_0622276d-e62d-4c2b-80b3-6ac184974895.jpg\n"
     ]
    }
   ],
   "metadata": {}
  },
  {
   "cell_type": "code",
   "execution_count": 85,
   "source": [
    "print(soup.select('#content > table')[0].find_all('a')[2].img.get('alt'))"
   ],
   "outputs": [
    {
     "output_type": "stream",
     "name": "stdout",
     "text": [
      "42화\n"
     ]
    }
   ],
   "metadata": {}
  },
  {
   "cell_type": "code",
   "execution_count": 81,
   "source": [
    "print('https://comic.naver.com'+soup.select('#content > table')[0].find_all('a')[2].get('href'))"
   ],
   "outputs": [
    {
     "output_type": "stream",
     "name": "stdout",
     "text": [
      "https://comic.naver.com/webtoon/detail?titleId=758037&no=42&weekday=mon\n"
     ]
    }
   ],
   "metadata": {}
  },
  {
   "cell_type": "code",
   "execution_count": 79,
   "source": [
    "print(url)"
   ],
   "outputs": [
    {
     "output_type": "stream",
     "name": "stdout",
     "text": [
      "https://comic.naver.com/webtoon/list?titleId=758037&weekday=mon\n"
     ]
    }
   ],
   "metadata": {}
  },
  {
   "cell_type": "code",
   "execution_count": null,
   "source": [],
   "outputs": [],
   "metadata": {}
  },
  {
   "cell_type": "code",
   "execution_count": 53,
   "source": [
    "print(rough[0].find_all('div')[0].a)\r\n"
   ],
   "outputs": [
    {
     "output_type": "stream",
     "name": "stdout",
     "text": [
      "<a href=\"/webtoon/list?titleId=736277&amp;weekday=sun\" onclick=\"nclk_v2(event,'thm*S.img','','1')\">\n",
      "<img alt=\"싸움독학\" height=\"90\" onerror=\"this.src='https://ssl.pstatic.net/static/comic/images/migration/common/blank.gif'\" src=\"https://shared-comic.pstatic.net/thumb/webtoon/736277/thumbnail/thumbnail_IMAG10_3ff8475e-6085-4188-a359-920a8801b419.jpg\" title=\"싸움독학\" width=\"83\"/><span class=\"mask\"></span>\n",
      "</a>\n"
     ]
    }
   ],
   "metadata": {}
  },
  {
   "cell_type": "code",
   "execution_count": 113,
   "source": [
    "print(rough[0].find_all('div')[0].a.img.get('title'))\r\n"
   ],
   "outputs": [
    {
     "output_type": "stream",
     "name": "stdout",
     "text": [
      "여신강림\n"
     ]
    }
   ],
   "metadata": {}
  },
  {
   "cell_type": "code",
   "execution_count": 114,
   "source": [
    "print(rough[0].find_all('div')[0].a.get('href').split('=')[-1])\r\n"
   ],
   "outputs": [
    {
     "output_type": "stream",
     "name": "stdout",
     "text": [
      "tue\n"
     ]
    }
   ],
   "metadata": {}
  },
  {
   "cell_type": "code",
   "execution_count": 125,
   "source": [
    "print(rough[0].find_all('div')[1].a.get('onclick').split(',')[-1].replace('\\'','').replace(')',''))"
   ],
   "outputs": [
    {
     "output_type": "stream",
     "name": "stdout",
     "text": [
      "2\n"
     ]
    }
   ],
   "metadata": {}
  },
  {
   "cell_type": "code",
   "execution_count": 116,
   "source": [
    "print('https://comic.naver.com'+rough[0].find_all('div')[0].a.get('href'))\r\n"
   ],
   "outputs": [
    {
     "output_type": "stream",
     "name": "stdout",
     "text": [
      "https://comic.naver.com/webtoon/list?titleId=703846&weekday=tue\n"
     ]
    }
   ],
   "metadata": {}
  },
  {
   "cell_type": "code",
   "execution_count": 117,
   "source": [
    "# 찾은 정보 데이터 프레임 안에 넣기\r\n",
    "order_table = pd.DataFrame(name).rename(columns={0:'name'})\r\n",
    "order_table['weekend'] = weekend\r\n",
    "order_table['order'] = order\r\n",
    "order_table['link'] = link\r\n"
   ],
   "outputs": [],
   "metadata": {}
  },
  {
   "cell_type": "code",
   "execution_count": 141,
   "source": [
    "order_table"
   ],
   "outputs": [
    {
     "output_type": "execute_result",
     "data": {
      "text/plain": [
       "       name weekend order                                               link\n",
       "0       참교육     mon     1  https://comic.naver.com/webtoon/list?titleId=7...\n",
       "1      신의 탑     mon     2  https://comic.naver.com/webtoon/list?titleId=1...\n",
       "2   뷰티풀 군바리     mon     3  https://comic.naver.com/webtoon/list?titleId=6...\n",
       "3    윈드브레이커     mon     4  https://comic.naver.com/webtoon/list?titleId=6...\n",
       "4      팔이피플     mon     5  https://comic.naver.com/webtoon/list?titleId=7...\n",
       "..      ...     ...   ...                                                ...\n",
       "56     푸른불꽃     sun    57  https://comic.naver.com/webtoon/list?titleId=7...\n",
       "57      데이즈     sun    58  https://comic.naver.com/webtoon/list?titleId=7...\n",
       "58    샤인 스타     sun    59  https://comic.naver.com/webtoon/list?titleId=7...\n",
       "59     호시탐탐     sun    60  https://comic.naver.com/webtoon/list?titleId=7...\n",
       "60  합격시켜주세용     sun    61  https://comic.naver.com/webtoon/list?titleId=7...\n",
       "\n",
       "[455 rows x 4 columns]"
      ],
      "text/html": [
       "<div>\n",
       "<style scoped>\n",
       "    .dataframe tbody tr th:only-of-type {\n",
       "        vertical-align: middle;\n",
       "    }\n",
       "\n",
       "    .dataframe tbody tr th {\n",
       "        vertical-align: top;\n",
       "    }\n",
       "\n",
       "    .dataframe thead th {\n",
       "        text-align: right;\n",
       "    }\n",
       "</style>\n",
       "<table border=\"1\" class=\"dataframe\">\n",
       "  <thead>\n",
       "    <tr style=\"text-align: right;\">\n",
       "      <th></th>\n",
       "      <th>name</th>\n",
       "      <th>weekend</th>\n",
       "      <th>order</th>\n",
       "      <th>link</th>\n",
       "    </tr>\n",
       "  </thead>\n",
       "  <tbody>\n",
       "    <tr>\n",
       "      <th>0</th>\n",
       "      <td>참교육</td>\n",
       "      <td>mon</td>\n",
       "      <td>1</td>\n",
       "      <td>https://comic.naver.com/webtoon/list?titleId=7...</td>\n",
       "    </tr>\n",
       "    <tr>\n",
       "      <th>1</th>\n",
       "      <td>신의 탑</td>\n",
       "      <td>mon</td>\n",
       "      <td>2</td>\n",
       "      <td>https://comic.naver.com/webtoon/list?titleId=1...</td>\n",
       "    </tr>\n",
       "    <tr>\n",
       "      <th>2</th>\n",
       "      <td>뷰티풀 군바리</td>\n",
       "      <td>mon</td>\n",
       "      <td>3</td>\n",
       "      <td>https://comic.naver.com/webtoon/list?titleId=6...</td>\n",
       "    </tr>\n",
       "    <tr>\n",
       "      <th>3</th>\n",
       "      <td>윈드브레이커</td>\n",
       "      <td>mon</td>\n",
       "      <td>4</td>\n",
       "      <td>https://comic.naver.com/webtoon/list?titleId=6...</td>\n",
       "    </tr>\n",
       "    <tr>\n",
       "      <th>4</th>\n",
       "      <td>팔이피플</td>\n",
       "      <td>mon</td>\n",
       "      <td>5</td>\n",
       "      <td>https://comic.naver.com/webtoon/list?titleId=7...</td>\n",
       "    </tr>\n",
       "    <tr>\n",
       "      <th>...</th>\n",
       "      <td>...</td>\n",
       "      <td>...</td>\n",
       "      <td>...</td>\n",
       "      <td>...</td>\n",
       "    </tr>\n",
       "    <tr>\n",
       "      <th>56</th>\n",
       "      <td>푸른불꽃</td>\n",
       "      <td>sun</td>\n",
       "      <td>57</td>\n",
       "      <td>https://comic.naver.com/webtoon/list?titleId=7...</td>\n",
       "    </tr>\n",
       "    <tr>\n",
       "      <th>57</th>\n",
       "      <td>데이즈</td>\n",
       "      <td>sun</td>\n",
       "      <td>58</td>\n",
       "      <td>https://comic.naver.com/webtoon/list?titleId=7...</td>\n",
       "    </tr>\n",
       "    <tr>\n",
       "      <th>58</th>\n",
       "      <td>샤인 스타</td>\n",
       "      <td>sun</td>\n",
       "      <td>59</td>\n",
       "      <td>https://comic.naver.com/webtoon/list?titleId=7...</td>\n",
       "    </tr>\n",
       "    <tr>\n",
       "      <th>59</th>\n",
       "      <td>호시탐탐</td>\n",
       "      <td>sun</td>\n",
       "      <td>60</td>\n",
       "      <td>https://comic.naver.com/webtoon/list?titleId=7...</td>\n",
       "    </tr>\n",
       "    <tr>\n",
       "      <th>60</th>\n",
       "      <td>합격시켜주세용</td>\n",
       "      <td>sun</td>\n",
       "      <td>61</td>\n",
       "      <td>https://comic.naver.com/webtoon/list?titleId=7...</td>\n",
       "    </tr>\n",
       "  </tbody>\n",
       "</table>\n",
       "<p>455 rows × 4 columns</p>\n",
       "</div>"
      ]
     },
     "metadata": {},
     "execution_count": 141
    }
   ],
   "metadata": {}
  },
  {
   "cell_type": "code",
   "execution_count": 119,
   "source": [
    "# 데이터 프레임 csv파일저장\r\n",
    "image_table.to_csv('./image_table.csv',header=0)"
   ],
   "outputs": [],
   "metadata": {}
  },
  {
   "cell_type": "code",
   "execution_count": null,
   "source": [],
   "outputs": [],
   "metadata": {}
  }
 ],
 "metadata": {
  "orig_nbformat": 4,
  "language_info": {
   "name": "python",
   "version": "3.8.8",
   "mimetype": "text/x-python",
   "codemirror_mode": {
    "name": "ipython",
    "version": 3
   },
   "pygments_lexer": "ipython3",
   "nbconvert_exporter": "python",
   "file_extension": ".py"
  },
  "kernelspec": {
   "name": "python3",
   "display_name": "Python 3.8.8 64-bit ('base': conda)"
  },
  "interpreter": {
   "hash": "ed6ebbd231714123173a1b92784e20951cf2290259ba1bfa87e226c60691e40d"
  }
 },
 "nbformat": 4,
 "nbformat_minor": 2
}